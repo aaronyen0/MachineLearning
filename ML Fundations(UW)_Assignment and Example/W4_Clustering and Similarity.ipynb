{
 "cells": [
  {
   "cell_type": "code",
   "execution_count": 15,
   "metadata": {},
   "outputs": [],
   "source": [
    "#Exam Clustering and Similarity"
   ]
  },
  {
   "cell_type": "code",
   "execution_count": 16,
   "metadata": {},
   "outputs": [],
   "source": [
    "str = \"the wheels on the bus go round and round\""
   ]
  },
  {
   "cell_type": "code",
   "execution_count": 17,
   "metadata": {},
   "outputs": [
    {
     "data": {
      "text/plain": [
       "['the', 'wheels', 'on', 'the', 'bus', 'go', 'round', 'and', 'round']"
      ]
     },
     "execution_count": 17,
     "metadata": {},
     "output_type": "execute_result"
    }
   ],
   "source": [
    "splitStr = str.split(\" \")\n",
    "splitStr"
   ]
  },
  {
   "cell_type": "code",
   "execution_count": 18,
   "metadata": {},
   "outputs": [],
   "source": [
    "myDict = {}\n",
    "for word in splitStr:\n",
    "    if word in myDict:\n",
    "        myDict[word] += 1\n",
    "    else:\n",
    "        myDict[word] = 1"
   ]
  },
  {
   "cell_type": "code",
   "execution_count": 19,
   "metadata": {},
   "outputs": [
    {
     "data": {
      "text/plain": [
       "{'and': 1, 'bus': 1, 'go': 1, 'on': 1, 'round': 2, 'the': 2, 'wheels': 1}"
      ]
     },
     "execution_count": 19,
     "metadata": {},
     "output_type": "execute_result"
    }
   ],
   "source": [
    "myDict"
   ]
  },
  {
   "cell_type": "code",
   "execution_count": 23,
   "metadata": {},
   "outputs": [
    {
     "name": "stdout",
     "output_type": "stream",
     "text": [
      "the  :  2\n",
      "on  :  1\n",
      "and  :  1\n",
      "go  :  1\n",
      "round  :  2\n",
      "bus  :  1\n",
      "wheels  :  1\n"
     ]
    }
   ],
   "source": [
    "words = [\"the\", \"on\", \"and\", \"go\", \"round\", \"bus\", \"wheels\"]\n",
    "for word in words:\n",
    "    print word, \" : \", myDict[word]"
   ]
  },
  {
   "cell_type": "code",
   "execution_count": 20,
   "metadata": {},
   "outputs": [],
   "source": [
    "\n",
    "\n",
    "def InnerPrd(lt):\n",
    "    myLt = [1,3,2,1,2,1,1]\n",
    "    s = 0\n",
    "    for i in range(len(lt)):\n",
    "        s += myLt[i] * lt[i]\n",
    "        #print s\n",
    "    return s"
   ]
  },
  {
   "cell_type": "code",
   "execution_count": 21,
   "metadata": {},
   "outputs": [
    {
     "name": "stdout",
     "output_type": "stream",
     "text": [
      "13\n",
      "27\n",
      "18\n",
      "22\n"
     ]
    }
   ],
   "source": [
    "print InnerPrd([7,0,2,1,0,0,1])\n",
    "print InnerPrd([1,7,0,0,2,0,1])\n",
    "print InnerPrd([1,0,0,0,7,1,2])\n",
    "print InnerPrd([0,2,0,0,7,1,1])\n",
    "#lt4 = [1,3,2,1,2,1,1]\n",
    "#lt4"
   ]
  },
  {
   "cell_type": "code",
   "execution_count": null,
   "metadata": {},
   "outputs": [],
   "source": []
  }
 ],
 "metadata": {
  "kernelspec": {
   "display_name": "Python 2",
   "language": "python",
   "name": "python2"
  },
  "language_info": {
   "codemirror_mode": {
    "name": "ipython",
    "version": 2
   },
   "file_extension": ".py",
   "mimetype": "text/x-python",
   "name": "python",
   "nbconvert_exporter": "python",
   "pygments_lexer": "ipython2",
   "version": "2.7.15"
  }
 },
 "nbformat": 4,
 "nbformat_minor": 2
}
