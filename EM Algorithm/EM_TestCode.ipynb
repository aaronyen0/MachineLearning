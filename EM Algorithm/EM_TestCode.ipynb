{
 "cells": [
  {
   "cell_type": "markdown",
   "metadata": {},
   "source": [
    "# EM Algorithm"
   ]
  },
  {
   "cell_type": "code",
   "execution_count": 2,
   "metadata": {},
   "outputs": [],
   "source": [
    "from numpy import *\n",
    "import numpy as np\n",
    "import random\n",
    "import copy\n",
    "import matplotlib.pyplot  as plt"
   ]
  },
  {
   "cell_type": "code",
   "execution_count": 3,
   "metadata": {},
   "outputs": [],
   "source": [
    "#生成sigma相同,均值不同的樣本\n",
    "def generate_data(n, mu1, mu2, sigma):\n",
    "    X1 = np.random.normal(mu1, sigma, size = (n,1))\n",
    "    X2 = np.random.normal(mu2, sigma, size = (n,1))\n",
    "    \n",
    "    X = zeros((N, 2))\n",
    "    for i in range(N):\n",
    "        temp = random.uniform(0,1)\n",
    "        if(temp > 0.5):\n",
    "            X[i] = X1[i], 1\n",
    "        else:\n",
    "            X[i] = X2[i], 2\n",
    "    return X"
   ]
  },
  {
   "cell_type": "code",
   "execution_count": 4,
   "metadata": {},
   "outputs": [],
   "source": [
    "N = 200\n",
    "Mu1 = 30\n",
    "Mu2 = 40\n",
    "Sigma = 5\n",
    "X = generate_data(N, Mu1, Mu2, Sigma)\n",
    "#X"
   ]
  },
  {
   "cell_type": "code",
   "execution_count": 5,
   "metadata": {},
   "outputs": [
    {
     "data": {
      "image/png": "[encoded data removed]",
      "text/plain": [
       "<Figure size 432x288 with 1 Axes>"
      ]
     },
     "metadata": {
      "needs_background": "light"
     },
     "output_type": "display_data"
    }
   ],
   "source": [
    "mask1 = (X[:,1] == 1)\n",
    "mask2 = (X[:,1] == 2)\n",
    "plt.plot(X[mask2, 0], zeros(sum(mask2 + 0)), '*b')\n",
    "plt.plot(X[mask1, 0], zeros(sum(mask1 + 0)), '.r')\n",
    "plt.show()"
   ]
  },
  {
   "cell_type": "code",
   "execution_count": 6,
   "metadata": {},
   "outputs": [],
   "source": [
    "EPS = 0.0001\n",
    "\n",
    "def EM_Test(x, sigma):\n",
    "    '''\n",
    "    x:array(n,1)\n",
    "    sigma:sigma of 2 normal distribution\n",
    "    2 class\n",
    "    '''    \n",
    "    k = 2\n",
    "    n = len(x)\n",
    "    mu = np.random.rand(k, 1)\n",
    "    posterior = zeros((n,2))\n",
    "    dominator = 0\n",
    "    numerator = 0\n",
    "\n",
    "    for iter in range(1000):\n",
    "        print(\"%d, mu1 = %d, mu2 = %d\\n\" %(iter, mu[0], mu[1]))  \n",
    "        \n",
    "        # E-step 找到後驗機率:第i個樣本，被歸類於第j個cluster的機率\n",
    "        # posterior[i, j] = P(i, j, theta) / sum_j( P(i, j, theta) )\n",
    "        for i in range(n):\n",
    "            dominator = 0\n",
    "            for j in range(k):\n",
    "                dominator = dominator + np.exp(-1.0 / (2.0 * sigma**2) * (x[i] - mu[j])**2)\n",
    "                \n",
    "            for j in range(k):\n",
    "                numerator = np.exp(-1.0 / (2.0 * sigma**2) * (x[i] - mu[j])**2)\n",
    "                posterior[i, j] = numerator / dominator\n",
    "        oldMu = copy.deepcopy(mu)\n",
    "        \n",
    "        # M-step 固定後驗機率下，最大化likelihood\n",
    "        for j in range(k):\n",
    "            numerator = 0\n",
    "            dominator = 0\n",
    "            for i in range(n):\n",
    "                numerator = numerator + posterior[i, j] * x[i]\n",
    "                dominator = dominator + posterior[i, j]\n",
    "            mu[j] = numerator / dominator\n",
    "            \n",
    "        #print( (abs(Miu - oldMiu)).sum() )\n",
    "        if (abs(mu - oldMu)).sum() < EPS:\n",
    "            print(mu, iter)\n",
    "            break\n"
   ]
  },
  {
   "cell_type": "code",
   "execution_count": 7,
   "metadata": {},
   "outputs": [
    {
     "name": "stdout",
     "output_type": "stream",
     "text": [
      "0, mu1 = 0, mu2 = 0\n",
      "\n",
      "1, mu1 = 35, mu2 = 35\n",
      "\n",
      "2, mu1 = 35, mu2 = 34\n",
      "\n",
      "3, mu1 = 35, mu2 = 34\n",
      "\n",
      "4, mu1 = 36, mu2 = 33\n",
      "\n",
      "5, mu1 = 38, mu2 = 32\n",
      "\n",
      "6, mu1 = 39, mu2 = 30\n",
      "\n",
      "7, mu1 = 40, mu2 = 29\n",
      "\n",
      "8, mu1 = 40, mu2 = 29\n",
      "\n",
      "9, mu1 = 40, mu2 = 29\n",
      "\n",
      "10, mu1 = 40, mu2 = 29\n",
      "\n",
      "11, mu1 = 40, mu2 = 29\n",
      "\n",
      "12, mu1 = 40, mu2 = 29\n",
      "\n",
      "13, mu1 = 40, mu2 = 29\n",
      "\n",
      "14, mu1 = 40, mu2 = 29\n",
      "\n",
      "15, mu1 = 40, mu2 = 29\n",
      "\n",
      "16, mu1 = 40, mu2 = 29\n",
      "\n",
      "17, mu1 = 40, mu2 = 29\n",
      "\n",
      "18, mu1 = 40, mu2 = 29\n",
      "\n",
      "19, mu1 = 40, mu2 = 29\n",
      "\n",
      "20, mu1 = 40, mu2 = 29\n",
      "\n",
      "[[40.29277877]\n",
      " [29.31997116]] 20\n"
     ]
    }
   ],
   "source": [
    "X = generate_data(N, Mu1, Mu2, Sigma)\n",
    "EM_Test(X[:,0], Sigma)"
   ]
  },
  {
   "cell_type": "code",
   "execution_count": null,
   "metadata": {},
   "outputs": [],
   "source": []
  }
 ],
 "metadata": {
  "kernelspec": {
   "display_name": "Python 3",
   "language": "python",
   "name": "python3"
  }
 },
 "nbformat": 4,
 "nbformat_minor": 2
}
